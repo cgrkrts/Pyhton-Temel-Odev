{
 "cells": [
  {
   "cell_type": "code",
   "execution_count": 1,
   "id": "8819e3ee-0b65-46e3-885d-33a7920ca729",
   "metadata": {},
   "outputs": [
    {
     "name": "stdout",
     "output_type": "stream",
     "text": [
      "[1, 'a', 'cat', 2, 3, 'dog', 4, 5]\n"
     ]
    }
   ],
   "source": [
    "l = [[1,'a',['cat'],2],[[[3]],'dog'],4,5]\n",
    "flat_l = []\n",
    "def flatten(n):\n",
    "    for i in n :\n",
    "        if isinstance(i,list):\n",
    "            flatten(i)\n",
    "        else:\n",
    "            flat_l.append(i)\n",
    "\n",
    "flatten(l)\n",
    "print(flat_l)"
   ]
  },
  {
   "cell_type": "code",
   "execution_count": 2,
   "id": "d698f3e8-de2c-4799-a210-a4f9709666ca",
   "metadata": {},
   "outputs": [
    {
     "data": {
      "text/plain": [
       "[[7, 6, 5], [4, 3], [2, 1]]"
      ]
     },
     "execution_count": 2,
     "metadata": {},
     "output_type": "execute_result"
    }
   ],
   "source": [
    "l = [[1, 2], [3, 4], [5, 6, 7]]\n",
    "def rev(l):\n",
    "    for i in l:\n",
    "        i.reverse()\n",
    "    l.reverse()\n",
    "rev(l)\n",
    "l"
   ]
  },
  {
   "cell_type": "code",
   "execution_count": null,
   "id": "a3e9f645-703f-41e1-8eba-c4ec968a3072",
   "metadata": {},
   "outputs": [],
   "source": []
  }
 ],
 "metadata": {
  "kernelspec": {
   "display_name": "Python 3 (ipykernel)",
   "language": "python",
   "name": "python3"
  },
  "language_info": {
   "codemirror_mode": {
    "name": "ipython",
    "version": 3
   },
   "file_extension": ".py",
   "mimetype": "text/x-python",
   "name": "python",
   "nbconvert_exporter": "python",
   "pygments_lexer": "ipython3",
   "version": "3.12.1"
  }
 },
 "nbformat": 4,
 "nbformat_minor": 5
}
